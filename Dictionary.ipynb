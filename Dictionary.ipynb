{
 "cells": [
  {
   "cell_type": "code",
   "execution_count": 1,
   "id": "37255041",
   "metadata": {},
   "outputs": [
    {
     "name": "stdout",
     "output_type": "stream",
     "text": [
      "<class 'dict'>\n"
     ]
    }
   ],
   "source": [
    "x={}\n",
    "print(type(x))"
   ]
  },
  {
   "cell_type": "code",
   "execution_count": 2,
   "id": "5b8d7533",
   "metadata": {},
   "outputs": [
    {
     "name": "stdout",
     "output_type": "stream",
     "text": [
      "{'jpg': 10, 'txt': 44, 'csv': 33, 'py': 65}\n"
     ]
    }
   ],
   "source": [
    " file_count ={\"jpg\":10,\"txt\":44,\"csv\":33,\"py\":65}\n",
    "print(file_count)"
   ]
  },
  {
   "cell_type": "code",
   "execution_count": 3,
   "id": "83230779",
   "metadata": {},
   "outputs": [
    {
     "data": {
      "text/plain": [
       "10"
      ]
     },
     "execution_count": 3,
     "metadata": {},
     "output_type": "execute_result"
    }
   ],
   "source": [
    "file_count[\"jpg\"]"
   ]
  },
  {
   "cell_type": "code",
   "execution_count": 4,
   "id": "4211cf10",
   "metadata": {},
   "outputs": [
    {
     "data": {
      "text/plain": [
       "True"
      ]
     },
     "execution_count": 4,
     "metadata": {},
     "output_type": "execute_result"
    }
   ],
   "source": [
    "\"jpg\" in file_count"
   ]
  },
  {
   "cell_type": "code",
   "execution_count": 5,
   "id": "aae17111",
   "metadata": {},
   "outputs": [
    {
     "data": {
      "text/plain": [
       "False"
      ]
     },
     "execution_count": 5,
     "metadata": {},
     "output_type": "execute_result"
    }
   ],
   "source": [
    "\"html\" in file_count"
   ]
  },
  {
   "cell_type": "code",
   "execution_count": 6,
   "id": "3015abbf",
   "metadata": {},
   "outputs": [
    {
     "data": {
      "text/plain": [
       "{'jpg': 10, 'txt': 44, 'csv': 33, 'py': 65, 'cfg': 8}"
      ]
     },
     "execution_count": 6,
     "metadata": {},
     "output_type": "execute_result"
    }
   ],
   "source": [
    "#to add an entry key value pair\n",
    "\n",
    "file_count[\"cfg\"]=8\n",
    "file_count"
   ]
  },
  {
   "cell_type": "code",
   "execution_count": 7,
   "id": "c5188975",
   "metadata": {},
   "outputs": [],
   "source": [
    "file_count[\"csv\"]=99 # we can update the value too in dict"
   ]
  },
  {
   "cell_type": "code",
   "execution_count": 8,
   "id": "07c56273",
   "metadata": {},
   "outputs": [
    {
     "data": {
      "text/plain": [
       "{'jpg': 10, 'txt': 44, 'csv': 99, 'py': 65, 'cfg': 8}"
      ]
     },
     "execution_count": 8,
     "metadata": {},
     "output_type": "execute_result"
    }
   ],
   "source": [
    "file_count"
   ]
  },
  {
   "cell_type": "code",
   "execution_count": 9,
   "id": "50250c34",
   "metadata": {},
   "outputs": [],
   "source": [
    "# Also we can delete the element\n",
    "del file_count[\"cfg\"]"
   ]
  },
  {
   "cell_type": "code",
   "execution_count": 10,
   "id": "b78a676d",
   "metadata": {},
   "outputs": [
    {
     "data": {
      "text/plain": [
       "{'jpg': 10, 'txt': 44, 'csv': 99, 'py': 65}"
      ]
     },
     "execution_count": 10,
     "metadata": {},
     "output_type": "execute_result"
    }
   ],
   "source": [
    "file_count"
   ]
  },
  {
   "cell_type": "code",
   "execution_count": 11,
   "id": "ab9b4817",
   "metadata": {},
   "outputs": [
    {
     "name": "stdout",
     "output_type": "stream",
     "text": [
      "jpg\n",
      "txt\n",
      "csv\n",
      "py\n"
     ]
    }
   ],
   "source": [
    "# iterating the dict\n",
    "for i in file_count:\n",
    "    print(i)"
   ]
  },
  {
   "cell_type": "code",
   "execution_count": 12,
   "id": "8950bc56",
   "metadata": {},
   "outputs": [
    {
     "name": "stdout",
     "output_type": "stream",
     "text": [
      "there are 10 files with the .jpg extentions\n",
      "there are 44 files with the .txt extentions\n",
      "there are 99 files with the .csv extentions\n",
      "there are 65 files with the .py extentions\n"
     ]
    }
   ],
   "source": [
    "for i,j in file_count.items():\n",
    "    print(\"there are {} files with the .{} extentions\".format(j,i))\n",
    "    "
   ]
  },
  {
   "cell_type": "code",
   "execution_count": 13,
   "id": "f494190e",
   "metadata": {},
   "outputs": [
    {
     "data": {
      "text/plain": [
       "dict_keys(['jpg', 'txt', 'csv', 'py'])"
      ]
     },
     "execution_count": 13,
     "metadata": {},
     "output_type": "execute_result"
    }
   ],
   "source": [
    "file_count.keys()"
   ]
  },
  {
   "cell_type": "code",
   "execution_count": 14,
   "id": "25d15cc3",
   "metadata": {},
   "outputs": [
    {
     "data": {
      "text/plain": [
       "dict_values([10, 44, 99, 65])"
      ]
     },
     "execution_count": 14,
     "metadata": {},
     "output_type": "execute_result"
    }
   ],
   "source": [
    "file_count.values()"
   ]
  },
  {
   "cell_type": "code",
   "execution_count": 15,
   "id": "987cd45c",
   "metadata": {},
   "outputs": [
    {
     "name": "stdout",
     "output_type": "stream",
     "text": [
      "10\n",
      "44\n",
      "99\n",
      "65\n"
     ]
    }
   ],
   "source": [
    "for value in file_count.values():\n",
    "    print(value)"
   ]
  },
  {
   "cell_type": "code",
   "execution_count": 16,
   "id": "8d969e19",
   "metadata": {},
   "outputs": [],
   "source": [
    "def count_letters(text):\n",
    "    result={}\n",
    "    for letter in text:\n",
    "        if letter not in  result:\n",
    "            result[letter]=0\n",
    "        result[letter] += 1\n",
    "    return result\n",
    "            "
   ]
  },
  {
   "cell_type": "code",
   "execution_count": 17,
   "id": "393c1378",
   "metadata": {},
   "outputs": [
    {
     "data": {
      "text/plain": [
       "{'a': 4}"
      ]
     },
     "execution_count": 17,
     "metadata": {},
     "output_type": "execute_result"
    }
   ],
   "source": [
    "count_letters(\"aaaa\")"
   ]
  },
  {
   "cell_type": "code",
   "execution_count": 18,
   "id": "9afaafdd",
   "metadata": {},
   "outputs": [
    {
     "data": {
      "text/plain": [
       "{'1': 2, '2': 3, '3': 4}"
      ]
     },
     "execution_count": 18,
     "metadata": {},
     "output_type": "execute_result"
    }
   ],
   "source": [
    "count_letters(\"112223333\")"
   ]
  },
  {
   "cell_type": "code",
   "execution_count": 19,
   "id": "c978d3c6",
   "metadata": {},
   "outputs": [
    {
     "data": {
      "text/plain": [
       "{' ': 5,\n",
       " 'h': 3,\n",
       " 'e': 2,\n",
       " 'y': 2,\n",
       " 'a': 2,\n",
       " 'n': 1,\n",
       " 'i': 1,\n",
       " 'r': 2,\n",
       " 'u': 2,\n",
       " 'd': 1,\n",
       " 'o': 2,\n",
       " 'w': 1}"
      ]
     },
     "execution_count": 19,
     "metadata": {},
     "output_type": "execute_result"
    }
   ],
   "source": [
    "count_letters(\" hey anirudh how are you\")"
   ]
  },
  {
   "cell_type": "code",
   "execution_count": 20,
   "id": "c0d92b9f",
   "metadata": {},
   "outputs": [
    {
     "name": "stdout",
     "output_type": "stream",
     "text": [
      "red shirt\n",
      "blue shirt\n",
      "white shirt\n",
      "blue jeans\n",
      "black jeans\n"
     ]
    }
   ],
   "source": [
    "wardrobe = {\"shirt\":[\"red\",\"blue\",\"white\"], \"jeans\":[\"blue\",\"black\"]}\n",
    "for item in wardrobe:\n",
    "\tfor values in wardrobe[item]:\n",
    "\t\tprint(\"{} {}\".format(values, item))"
   ]
  },
  {
   "cell_type": "code",
   "execution_count": 21,
   "id": "69613ed8",
   "metadata": {},
   "outputs": [
    {
     "name": "stdout",
     "output_type": "stream",
     "text": [
      "['red', 'blue', 'white']\n",
      "['blue', 'black']\n"
     ]
    }
   ],
   "source": [
    "wardrobe = {\"shirt\":[\"red\",\"blue\",\"white\"], \"jeans\":[\"blue\",\"black\"]}\n",
    "# for item in wardrobe:\n",
    "for value in wardrobe.values():\n",
    "    print(value)\n",
    "#     print(item)"
   ]
  },
  {
   "cell_type": "code",
   "execution_count": 22,
   "id": "a39e1bac",
   "metadata": {},
   "outputs": [
    {
     "name": "stdout",
     "output_type": "stream",
     "text": [
      "['clark.kent@gmail.com', 'diana.prince@gmail.com', 'peter.parker@gmail.com', 'barbara.gordon@yahoo.com', 'jean.grey@yahoo.com', 'bruce.wayne@hotmail.com']\n"
     ]
    }
   ],
   "source": [
    "def email_list(domains):\n",
    "    emails = []\n",
    "    for domain, users in domains.items():\n",
    "        for user in users:\n",
    "            emails.append(\"{}@{}\".format(user,domain))\n",
    "    return(emails)\n",
    "\n",
    "print(email_list({\"gmail.com\": [\"clark.kent\", \"diana.prince\", \"peter.parker\"], \"yahoo.com\": [\"barbara.gordon\", \"jean.grey\"], \"hotmail.com\": [\"bruce.wayne\"]}))"
   ]
  },
  {
   "cell_type": "raw",
   "id": "f3d7c7fd",
   "metadata": {},
   "source": [
    "def groups_per_user(group_dictionary):\n",
    "\tuser_groups = {}\n",
    "\t# Go through group_dictionary\n",
    "\tfor groups,users in group_dictionary.items():\n",
    "\t\t# Now go through the users in the group\n",
    "\t\tfor user in users:\n",
    "\t\t\tif user not in user_groups:\n",
    "\t\t\t\tuser_groups[user] = []\n",
    "\t\t\tuser_groups[user].append(groups)\n",
    "\t\t\t# Now add the group to the the list of\n",
    "# groups for this user, creating the entry\n",
    "# in the dictionary if necessary\n",
    "\n",
    "\n",
    "\treturn(user_groups)\n",
    "\n",
    "print(groups_per_user({\"local\": [\"admin\", \"userA\"],\n",
    "\t\t\"public\":  [\"admin\", \"userB\"],\n",
    "\t\t\"administrator\": [\"admin\"] }))"
   ]
  },
  {
   "cell_type": "code",
   "execution_count": 23,
   "id": "7f253183",
   "metadata": {},
   "outputs": [],
   "source": [
    "def groups_per_user(group_dictionary):\n",
    "    user_groups = {}\n",
    "    for groups,users in group_dictionary.items():\n",
    "        for user in users:\n",
    "            if user not in user_groups:\n",
    "                if user not in user_groups:\n",
    "                    user_groups[user] = []\n",
    "                user_groups[user].append(groups)\n",
    "                \n",
    "    return(user_groups)"
   ]
  },
  {
   "cell_type": "code",
   "execution_count": 24,
   "id": "b9731d08",
   "metadata": {},
   "outputs": [
    {
     "data": {
      "text/plain": [
       "{'admin': ['local'], 'userA': ['local'], 'userB': ['public']}"
      ]
     },
     "execution_count": 24,
     "metadata": {},
     "output_type": "execute_result"
    }
   ],
   "source": [
    "groups_per_user({\"local\": [\"admin\", \"userA\"],\"public\":  [\"admin\", \"userB\"],\"administrator\": [\"admin\"] })"
   ]
  },
  {
   "cell_type": "code",
   "execution_count": 25,
   "id": "0816dbb1",
   "metadata": {},
   "outputs": [],
   "source": [
    "wardrobe = {'shirt': ['red', 'blue', 'white'], 'jeans': ['blue', 'black']}\n",
    "new_items = {'jeans': ['white'], 'scarf': ['yellow'], 'socks': ['black', 'brown']}\n",
    "wardrobe.update(new_items)"
   ]
  },
  {
   "cell_type": "code",
   "execution_count": 26,
   "id": "d96bd803",
   "metadata": {},
   "outputs": [
    {
     "data": {
      "text/plain": [
       "{'shirt': ['red', 'blue', 'white'],\n",
       " 'jeans': ['white'],\n",
       " 'scarf': ['yellow'],\n",
       " 'socks': ['black', 'brown']}"
      ]
     },
     "execution_count": 26,
     "metadata": {},
     "output_type": "execute_result"
    }
   ],
   "source": [
    "wardrobe"
   ]
  },
  {
   "cell_type": "code",
   "execution_count": 27,
   "id": "bb9bbb3f",
   "metadata": {},
   "outputs": [
    {
     "name": "stdout",
     "output_type": "stream",
     "text": [
      "28.44\n"
     ]
    }
   ],
   "source": [
    "def add_prices(basket):\n",
    "\t# Initialize the variable that will be used for the calculation\n",
    "\ttotal = 0\n",
    "\t# Iterate through the dictionary items\n",
    "\tfor value in basket.values():\n",
    "\t\t# Add each price to the total calculation\n",
    "\t\t# Hint: how do you access the values of\n",
    "\t\t# dictionary items?\n",
    "\t\ttotal += value\n",
    "\t# Limit the return value to 2 decimal places\n",
    "\treturn round(total, 2)  \n",
    "\n",
    "groceries = {\"bananas\": 1.56, \"apples\": 2.50, \"oranges\": 0.99, \"bread\": 4.59, \n",
    "\t\"coffee\": 6.99, \"milk\": 3.39, \"eggs\": 2.98, \"cheese\": 5.44}\n",
    "\n",
    "print(add_prices(groceries)) # Should print 28.44\n"
   ]
  },
  {
   "cell_type": "code",
   "execution_count": null,
   "id": "768bbf26",
   "metadata": {},
   "outputs": [],
   "source": []
  },
  {
   "cell_type": "code",
   "execution_count": null,
   "id": "73a09dac",
   "metadata": {},
   "outputs": [],
   "source": []
  }
 ],
 "metadata": {
  "kernelspec": {
   "display_name": "Python 3 (ipykernel)",
   "language": "python",
   "name": "python3"
  },
  "language_info": {
   "codemirror_mode": {
    "name": "ipython",
    "version": 3
   },
   "file_extension": ".py",
   "mimetype": "text/x-python",
   "name": "python",
   "nbconvert_exporter": "python",
   "pygments_lexer": "ipython3",
   "version": "3.9.12"
  }
 },
 "nbformat": 4,
 "nbformat_minor": 5
}
